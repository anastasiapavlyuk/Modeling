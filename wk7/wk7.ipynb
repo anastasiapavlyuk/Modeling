{
 "cells": [
  {
   "cell_type": "code",
   "execution_count": 4,
   "metadata": {},
   "outputs": [],
   "source": [
    "import numpy as np\n",
    "import matplotlib.pyplot as plt\n",
    "import pandas as pd\n",
    "import subprocess"
   ]
  },
  {
   "cell_type": "code",
   "execution_count": 5,
   "metadata": {},
   "outputs": [],
   "source": [
    "def get_data(x, v, w, dt, time, type):\n",
    "    par = open('config.txt', 'w')\n",
    "    print(x,    file=par)\n",
    "    print(v,    file=par)\n",
    "    print(w,    file=par)\n",
    "    print(dt,   file=par)\n",
    "    print(time, file=par)\n",
    "    print(type, file=par)\n",
    "    par.close()\n",
    "    returned_output = subprocess.check_output('./wk7')\n",
    "    print(returned_output.decode('utf-8'))\n",
    "    return pd.DataFrame(np.fromfile('data.binary', dtype=np.dtype([\n",
    "                ('x', np.float64),\n",
    "                ('v', np.float64),\n",
    "                ('w', np.float64)\n",
    "            ])))\n"
   ]
  },
  {
   "cell_type": "code",
   "execution_count": 6,
   "metadata": {},
   "outputs": [
    {
     "ename": "TypeError",
     "evalue": "get_data() missing 1 required positional argument: 'type'",
     "output_type": "error",
     "traceback": [
      "\u001b[0;31m---------------------------------------------------------------------------\u001b[0m",
      "\u001b[0;31mTypeError\u001b[0m                                 Traceback (most recent call last)",
      "\u001b[1;32m/Users/anastasiapavluk/Desktop/Modeling/wk7/wk7.ipynb Ячейка 3\u001b[0m in \u001b[0;36m<cell line: 1>\u001b[0;34m()\u001b[0m\n\u001b[0;32m----> <a href='vscode-notebook-cell:/Users/anastasiapavluk/Desktop/Modeling/wk7/wk7.ipynb#W2sZmlsZQ%3D%3D?line=0'>1</a>\u001b[0m data \u001b[39m=\u001b[39m get_data(\u001b[39m3\u001b[39;49m \u001b[39m*\u001b[39;49m np\u001b[39m.\u001b[39;49mpi\u001b[39m/\u001b[39;49m\u001b[39m4\u001b[39;49m, \u001b[39m0\u001b[39;49m, \u001b[39m1\u001b[39;49m, \u001b[39m0.01\u001b[39;49m, \u001b[39m70\u001b[39;49m)\n\u001b[1;32m      <a href='vscode-notebook-cell:/Users/anastasiapavluk/Desktop/Modeling/wk7/wk7.ipynb#W2sZmlsZQ%3D%3D?line=2'>3</a>\u001b[0m fig, ax \u001b[39m=\u001b[39m plt\u001b[39m.\u001b[39msubplots(\u001b[39m1\u001b[39m, \u001b[39m2\u001b[39m)\n\u001b[1;32m      <a href='vscode-notebook-cell:/Users/anastasiapavluk/Desktop/Modeling/wk7/wk7.ipynb#W2sZmlsZQ%3D%3D?line=3'>4</a>\u001b[0m fig\u001b[39m.\u001b[39mset_size_inches(\u001b[39m18\u001b[39m,\u001b[39m8\u001b[39m)\n",
      "\u001b[0;31mTypeError\u001b[0m: get_data() missing 1 required positional argument: 'type'"
     ]
    }
   ],
   "source": [
    "data = get_data(3 * np.pi/4, 0, 1, 0.01, 70)\n",
    "\n",
    "fig, ax = plt.subplots(1, 2)\n",
    "fig.set_size_inches(18,8)\n",
    "\n",
    "t = np.linspace(0, 100, len(data.x))\n",
    "ax[0].plot(t, data.x, label='model')\n",
    "ax[0].plot(t, np.pi+t-t,'--', label='$\\pi$')\n",
    "#ax.plot(t, 3 * np.pi / 4 * np.cos(t), '--')\n",
    "\n",
    "ax[0].legend(loc='best', fontsize=20)\n",
    "ax[0].set_xlabel('time', fontsize=22)\n",
    "ax[0].set_ylabel('angle', fontsize=22)\n",
    "ax[0].set_title('$\\phi(t)$', fontsize=24)\n",
    "ax[0].grid(True)\n",
    "ax[1].grid(True)\n",
    "plt.show()"
   ]
  }
 ],
 "metadata": {
  "kernelspec": {
   "display_name": "Python 3.10.4 64-bit",
   "language": "python",
   "name": "python3"
  },
  "language_info": {
   "codemirror_mode": {
    "name": "ipython",
    "version": 3
   },
   "file_extension": ".py",
   "mimetype": "text/x-python",
   "name": "python",
   "nbconvert_exporter": "python",
   "pygments_lexer": "ipython3",
   "version": "3.10.4"
  },
  "orig_nbformat": 4,
  "vscode": {
   "interpreter": {
    "hash": "5984c07bd85a09704efeebc43c280456997f3d9e1810f10980d19f89f173e200"
   }
  }
 },
 "nbformat": 4,
 "nbformat_minor": 2
}
