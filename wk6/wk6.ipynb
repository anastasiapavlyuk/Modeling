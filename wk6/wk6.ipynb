{
 "cells": [
  {
   "cell_type": "code",
   "execution_count": 2,
   "metadata": {},
   "outputs": [],
   "source": [
    "import numpy as np\n",
    "import matplotlib.pyplot as plt\n",
    "import time"
   ]
  },
  {
   "cell_type": "code",
   "execution_count": 3,
   "metadata": {},
   "outputs": [],
   "source": [
    "class condition:\n",
    "    def __init__ (self, x, y, omega):\n",
    "        self.x = x\n",
    "        self.y = y\n",
    "        self.omega = omega\n",
    "\n",
    "    def __add__ (self, i):\n",
    "        if(self.omega == i.omega):\n",
    "            return condition(self.x+i.x, self.y + i.y, self.omega)\n",
    "        else:\n",
    "            print(\"???omega???\")\n",
    "\n",
    "    def __mul__ (self, c):\n",
    "        return condition(c*self.x, c*self.y, self. omega)\n",
    "\n",
    "    def f (self, dt):\n",
    "        return condition (self.y, -self.x * self.omega, self.omega)\n",
    "    "
   ]
  },
  {
   "cell_type": "code",
   "execution_count": 4,
   "metadata": {},
   "outputs": [],
   "source": [
    "class solver:\n",
    "\n",
    "    def __init__ (self, n, x0, y0, omega, dt):\n",
    "        self.n = n\n",
    "        self.x0 = x0\n",
    "        self.y0 = y0\n",
    "        self.omega = omega\n",
    "        self.dt = dt\n",
    "        self.data = np.zeros(n, dtype=condition)\n",
    "\n",
    "    def func(self):\n",
    "\n",
    "        self.data[0]=condition(self.x0, self.y0, self.omega)\n",
    "\n",
    "        for i in range(1, self.n):\n",
    "                c1 = self.data[i-1] + (condition.f(self.data[i-1], self.dt) * self.dt)\n",
    "                c2 = self.data[i-1] + ((condition.f(self.data[i-1], self.dt) + condition.f(c1, self.dt))*(self.dt/2))\n",
    "                self.data[i] = c2\n",
    "\n",
    "    '''def write(self):\n",
    "        out = open(self.name, 'w')\n",
    "        print(\"x y omega\", file=out)\n",
    "\n",
    "        for i in range(self.n):\n",
    "            print(self.data[i].x, self.data[i].y, self.data[i].omega, file = out)\n",
    "\n",
    "        out.close()'''\n"
   ]
  },
  {
   "cell_type": "code",
   "execution_count": 5,
   "metadata": {},
   "outputs": [],
   "source": [
    "a1 = solver(10000, 6400000, 0, 1, 0.1)\n",
    "a1.func()\n",
    "#a1.write()"
   ]
  },
  {
   "cell_type": "code",
   "execution_count": 6,
   "metadata": {},
   "outputs": [
    {
     "ename": "",
     "evalue": "",
     "output_type": "error",
     "traceback": [
      "\u001b[1;31mПри выполнении кода в текущей ячейке или предыдущей ячейке ядро аварийно завершило работу. Проверьте код в ячейках, чтобы определить возможную причину сбоя. Щелкните <a href=\"https://aka.ms/vscodeJupyterKernelCrash\">здесь</a> для получения дополнительных сведений. Подробнее см. в <a href='command:jupyter.viewOutput'>журнале Jupyter</a>."
     ]
    },
    {
     "ename": "",
     "evalue": "",
     "output_type": "error",
     "traceback": [
      "\u001b[1;31mCanceled future for execute_request message before replies were done"
     ]
    }
   ],
   "source": [
    "n = 8\n",
    "T = np.zeros(n)\n",
    "for i in range(n):\n",
    "    start = time.time()\n",
    "    c = solver(10**n, 6400000, 0, 1, 0.1)\n",
    "    c.func()\n",
    "    end = time.time()\n",
    "    T[i] = end - start\n",
    "    print(i, T[i])\n"
   ]
  }
 ],
 "metadata": {
  "kernelspec": {
   "display_name": "Python 3.10.4 64-bit",
   "language": "python",
   "name": "python3"
  },
  "language_info": {
   "codemirror_mode": {
    "name": "ipython",
    "version": 3
   },
   "file_extension": ".py",
   "mimetype": "text/x-python",
   "name": "python",
   "nbconvert_exporter": "python",
   "pygments_lexer": "ipython3",
   "version": "3.10.4"
  },
  "orig_nbformat": 4,
  "vscode": {
   "interpreter": {
    "hash": "5984c07bd85a09704efeebc43c280456997f3d9e1810f10980d19f89f173e200"
   }
  }
 },
 "nbformat": 4,
 "nbformat_minor": 2
}
